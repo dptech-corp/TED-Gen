{
 "cells": [
  {
   "cell_type": "markdown",
   "metadata": {},
   "source": [
    "### ReS2 Slip Vector"
   ]
  },
  {
   "cell_type": "code",
   "execution_count": 48,
   "metadata": {},
   "outputs": [
    {
     "data": {
      "text/plain": [
       "array([1.16022873, 0.07804659])"
      ]
     },
     "execution_count": 48,
     "metadata": {},
     "output_type": "execute_result"
    }
   ],
   "source": [
    "import torch\n",
    "import torch.nn as nn\n",
    "from PIL import Image\n",
    "import torchvision.transforms.functional as TF\n",
    "import torchvision.models as models\n",
    "from model import StructNet\n",
    "import numpy as np\n",
    "from math import cos, sin, tan,degrees, radians\n",
    "\n",
    "def shift_trans(x,y):\n",
    "    all_targets = np.array([[x,y,1.]])\n",
    "\n",
    "    all_targets_symmetric = all_targets.copy()\n",
    "    all_targets_symmetric[:, 1] = -all_targets_symmetric[:, 1]\n",
    "\n",
    "    all_targets_filp = all_targets_symmetric.copy()\n",
    "    all_targets_filp[:, :2] = (0, 0) - (all_targets_symmetric[:, :2] - (0, 0))\n",
    "    points = np.concatenate([all_targets_filp,all_targets_symmetric])\n",
    "\n",
    "    condition_indices = np.where(points[:, 0]<0)\n",
    "\n",
    "    shift_value = 6.42\n",
    "    points[condition_indices, 0] += shift_value \n",
    "    condition_indices = np.where(points[:, 1]<0)\n",
    "    points[condition_indices, 0] += -3.21\n",
    "    points[condition_indices, 1] += 5.71\n",
    "    condition_indices = np.where(1.74*points[:,0]+points[:, 1]<0)\n",
    "    points[condition_indices, 0] += 6.42\n",
    "    condition_indices2 = np.where(1.74*points[:,0]+points[:, 1]>11.21)\n",
    "    points[condition_indices2, 0] += -6.42\n",
    "\n",
    "    index = []\n",
    "    for i in range(points.shape[0]):\n",
    "        if (5.71/(3.27+6.42))*points[i][0] + points[i][1] > (5.71/(3.27+6.42))*6.42:\n",
    "            index.append(i)\n",
    "\n",
    "    points = np.delete(points,index,axis=0)\n",
    "\n",
    "    angle_in_degrees1 = 119.8- 90\n",
    "    angle_in_radians1 = radians(angle_in_degrees1)\n",
    "    angle_in_degrees2 = 60.2\n",
    "    angle_in_radians2 = radians(angle_in_degrees2)\n",
    "    new_x = [p[0]+p[1]*tan(angle_in_radians1) for p in points]\n",
    "    new_y = [p[1]/cos(angle_in_radians1) for p in points]\n",
    "    target_new = np.stack([new_x, new_y],axis=1)\n",
    "\n",
    "    return target_new[0]\n",
    "\n",
    "# Model parameter path\n",
    "weight_path = '1.pth'\n",
    "# Image path\n",
    "image_path = '1.png'\n",
    "\n",
    "\n",
    "device = torch.device('cuda' if torch.cuda.is_available() else 'cpu')\n",
    "model = StructNet(output_dim = 3)\n",
    "model.to(device)\n",
    "\n",
    "model.load_state_dict(torch.load(weight_path))\n",
    "model.eval()\n",
    "\n",
    "image = Image.open(image_path).convert('RGB')\n",
    "image = image.resize((1024,1024))\n",
    "# image = TF.hflip(image)\n",
    "image_list = []\n",
    "\n",
    "for i in range(16):\n",
    "    crop_size = 512 + i * 10\n",
    "    image_c = TF.crop(image, 0, 0, crop_size, crop_size)\n",
    "    image_c = image_c.resize([512,512])\n",
    "    data = TF.to_tensor(image_c)\n",
    "    image_list.append(data)\n",
    "data = torch.stack(image_list,dim = 0).to(device)\n",
    "output = model(data)\n",
    "output = output.mean(dim=0)[:2].cpu().detach()\n",
    "shift_trans(output[0], output[1])"
   ]
  }
 ],
 "metadata": {
  "kernelspec": {
   "display_name": "base",
   "language": "python",
   "name": "python3"
  },
  "language_info": {
   "codemirror_mode": {
    "name": "ipython",
    "version": 3
   },
   "file_extension": ".py",
   "mimetype": "text/x-python",
   "name": "python",
   "nbconvert_exporter": "python",
   "pygments_lexer": "ipython3",
   "version": "3.10.12"
  }
 },
 "nbformat": 4,
 "nbformat_minor": 2
}
